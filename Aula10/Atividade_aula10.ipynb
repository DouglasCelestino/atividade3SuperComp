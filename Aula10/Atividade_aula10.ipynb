{
  "cells": [
    {
      "cell_type": "code",
      "execution_count": 1,
      "metadata": {
        "colab": {
          "base_uri": "https://localhost:8080/"
        },
        "id": "GrrMK6xREv0s",
        "outputId": "8a0bd89b-b5e0-401d-8166-69fe5960269a"
      },
      "outputs": [
        {
          "name": "stdout",
          "output_type": "stream",
          "text": [
            "Writing exemplo1.cu\n"
          ]
        }
      ],
      "source": [
        "%%writefile exemplo1.cu\n",
        "#include <thrust/device_vector.h> // Inclui a biblioteca para vetores na GPU (device)\n",
        "#include <thrust/host_vector.h>   // Inclui a biblioteca para vetores na CPU (host)\n",
        "#include <iostream>               // Biblioteca padrão para entrada e saída de dados\n",
        "\n",
        "int main() {\n",
        "    // Cria um vetor na CPU (host) com 5 elementos, todos inicializados com 0\n",
        "    thrust::host_vector<double> host(5, 0);\n",
        "    host[4] = 35; // Altera o último elemento do vetor para 35\n",
        "\n",
        "    /* Os dados do vetor 'host' são copiados para a GPU,\n",
        "       criando um vetor equivalente na GPU (device) */\n",
        "    thrust::device_vector<double> dev(host);\n",
        "\n",
        "    /* Altera o vetor na CPU, mas não afeta o vetor na GPU,\n",
        "       pois a cópia já foi feita anteriormente */\n",
        "    host[2] = 12; // Altera o terceiro elemento do vetor na CPU para 12\n",
        "\n",
        "    // Exibe os elementos do vetor na CPU\n",
        "    printf(\"Host vector: \");\n",
        "    for (auto i = host.begin(); i != host.end(); i++) {\n",
        "        std::cout << *i << \" \"; // Acesso rápido aos elementos na CPU\n",
        "    }\n",
        "    printf(\"\\n\");\n",
        "\n",
        "    // Exibe os elementos do vetor na GPU\n",
        "    printf(\"Device vector: \");\n",
        "    for (auto i = dev.begin(); i != dev.end(); i++) {\n",
        "        std::cout << *i << \" \"; // Acesso aos elementos na GPU é lento, pois os dados estão na GPU\n",
        "    }\n",
        "    printf(\"\\n\");\n",
        "}"
      ]
    },
    {
      "cell_type": "code",
      "execution_count": 3,
      "metadata": {
        "id": "xZ29M4P-G0zC"
      },
      "outputs": [],
      "source": [
        "!nvcc -arch=sm_75 -std=c++14 exemplo1.cu -o exemplo1"
      ]
    },
    {
      "cell_type": "code",
      "execution_count": 4,
      "metadata": {
        "colab": {
          "base_uri": "https://localhost:8080/"
        },
        "id": "2TI2h59ZGwU6",
        "outputId": "328330ce-c2db-49b6-bcac-0747230e1aa9"
      },
      "outputs": [
        {
          "name": "stdout",
          "output_type": "stream",
          "text": [
            "Host vector: 0 0 12 0 35 \n",
            "Device vector: 0 0 0 0 35 \n"
          ]
        }
      ],
      "source": [
        "!./exemplo1"
      ]
    },
    {
      "cell_type": "code",
      "execution_count": 5,
      "metadata": {
        "colab": {
          "base_uri": "https://localhost:8080/"
        },
        "id": "qddqIaQqHt3T",
        "outputId": "026d367d-2ea1-4c36-f208-58781a7ab46b"
      },
      "outputs": [
        {
          "name": "stdout",
          "output_type": "stream",
          "text": [
            "Writing exemplo2.cu\n"
          ]
        }
      ],
      "source": [
        "%%writefile exemplo2.cu\n",
        "#include <thrust/device_vector.h>              // Inclui a biblioteca para vetores na GPU\n",
        "#include <thrust/host_vector.h>                // Inclui a biblioteca para vetores na CPU\n",
        "#include <thrust/sequence.h>                   // Inclui a função para preencher vetores com uma sequência de números\n",
        "#include <thrust/functional.h>                 // Inclui operações matemáticas padrão, como soma e multiplicação\n",
        "#include <thrust/transform.h>                  // Inclui a função para transformar vetores com operações ponto a ponto\n",
        "#include <thrust/iterator/constant_iterator.h> // Inclui o iterador constante necessário\n",
        "#include <iostream>\n",
        "\n",
        "int main() {\n",
        "    // Cria um vetor na GPU (device_vector) com 10 elementos, todos inicializados com 0\n",
        "    thrust::device_vector<double> V1(10, 0);\n",
        "    // Preenche V1 com uma sequência de números: {0, 1, 2, ..., 9}\n",
        "    thrust::sequence(V1.begin(), V1.end());\n",
        "\n",
        "    // Cria um vetor na GPU com 5 elementos, todos inicializados com 0\n",
        "    thrust::device_vector<double> V2(5, 0);\n",
        "    // Preenche os dois primeiros elementos de V2 com 5.5: {5.5, 5.5, 0, 0, 0}\n",
        "    thrust::fill(V2.begin(), V2.begin() + 2, 5.5);\n",
        "    // Preenche os elementos restantes de V2 com 10: {5.5, 5.5, 10, 10, 10}\n",
        "    thrust::fill(V2.begin() + 2, V2.end(), 10);\n",
        "\n",
        "    // Cria dois vetores na GPU com 10 elementos, para armazenar resultados das operações\n",
        "    thrust::device_vector<double> V3(10); // Vetor para armazenar o resultado da soma\n",
        "    thrust::device_vector<double> V4(10); // Vetor para armazenar o resultado da multiplicação\n",
        "\n",
        "    // Aplica a operação de soma elemento por elemento entre V1 e V2 e armazena o resultado em V3\n",
        "    // Como V2 tem menos elementos, o restante de V1 é somado com zeros (elemento padrão).\n",
        "    // Resultado: V3 = {0+5.5, 1+5.5, 2+10, 3+10, 4+10, 5+0, ..., 9+0}\n",
        "    thrust::transform(V1.begin(), V1.end(), V2.begin(), V3.begin(), thrust::plus<double>());\n",
        "\n",
        "    // Aplica multiplicação de V1 com o valor constante 0.5\n",
        "    // e armazenaria o resultado em V4.\n",
        "    thrust::transform(V1.begin(), V1.end(), thrust::constant_iterator<double>(0.5), V4.begin(), thrust::multiplies<double>());\n",
        "\n",
        "    // Imprime os elementos de V1\n",
        "    printf(\"V1: \");\n",
        "    for (thrust::device_vector<double>::iterator i = V1.begin(); i != V1.end(); i++) {\n",
        "        std::cout << *i << \" \"; // Acessa e imprime cada elemento do vetor V1\n",
        "    }\n",
        "    printf(\"\\n\");\n",
        "\n",
        "    // Imprime os elementos de V2\n",
        "    printf(\"V2: \");\n",
        "    for (thrust::device_vector<double>::iterator i = V2.begin(); i != V2.end(); i++) {\n",
        "        std::cout << *i << \" \"; // Acessa e imprime cada elemento do vetor V2\n",
        "    }\n",
        "    printf(\"\\n\");\n",
        "\n",
        "    // Imprime os elementos de V3\n",
        "    printf(\"V3: \");\n",
        "    for (thrust::device_vector<double>::iterator i = V3.begin(); i != V3.end(); i++) {\n",
        "        std::cout << *i << \" \"; // Acessa e imprime cada elemento do vetor V3\n",
        "    }\n",
        "    printf(\"\\n\");\n",
        "\n",
        "    // Imprime o vetor V4, que foi criado mas não utilizado.\n",
        "     printf(\"V4: \");\n",
        "    for (thrust::device_vector<double>::iterator i = V4.begin(); i != V4.end(); i++) {\n",
        "         std::cout << *i << \" \";\n",
        "    }\n",
        "    printf(\"\\n\");\n",
        "\n",
        "    return 0;\n",
        "}"
      ]
    },
    {
      "cell_type": "code",
      "execution_count": 6,
      "metadata": {
        "id": "oF7d1EmRHt-t"
      },
      "outputs": [],
      "source": [
        "!nvcc -arch=sm_75 -std=c++14 exemplo2.cu -o exemplo2"
      ]
    },
    {
      "cell_type": "code",
      "execution_count": 7,
      "metadata": {
        "colab": {
          "base_uri": "https://localhost:8080/"
        },
        "id": "sLIvBnnWHuBi",
        "outputId": "9b42cf98-f08e-40fd-fe16-a750eaec7f0a"
      },
      "outputs": [
        {
          "name": "stdout",
          "output_type": "stream",
          "text": [
            "V1: 0 1 2 3 4 5 6 7 8 9 \n",
            "V2: 5.5 5.5 10 10 10 \n",
            "V3: 5.5 6.5 12 13 14 5 6 7 8 9 \n",
            "V4: 0 0.5 1 1.5 2 2.5 3 3.5 4 4.5 \n"
          ]
        }
      ],
      "source": [
        "!./exemplo2\n"
      ]
    },
    {
      "cell_type": "code",
      "execution_count": 8,
      "metadata": {
        "colab": {
          "base_uri": "https://localhost:8080/"
        },
        "id": "lbNv58W0HuEE",
        "outputId": "72785e09-d5f1-4173-cc03-4426644a8ae3"
      },
      "outputs": [
        {
          "name": "stdout",
          "output_type": "stream",
          "text": [
            "Writing stocks.cu\n"
          ]
        }
      ],
      "source": [
        "%%writefile stocks.cu\n",
        "#include <thrust/device_vector.h>   // Inclui a biblioteca Thrust para vetores na GPU\n",
        "#include <thrust/host_vector.h>     // Inclui a biblioteca Thrust para vetores na CPU\n",
        "#include <iostream>                 // Biblioteca padrão para entrada e saída de dados\n",
        "#include <chrono>                   // Biblioteca para medir o tempo de execução do código\n",
        "using namespace std;\n",
        "\n",
        "int main() {\n",
        "    int n = 2518;                   // Define o tamanho do vetor (2518 elementos)\n",
        "    double value = 0.0;             // Variável auxiliar para armazenar o valor lido da entrada\n",
        "    std::chrono::duration<double> diff; // Variável para armazenar a diferença de tempo calculada\n",
        "\n",
        "    // Marca o início da medição do tempo de leitura dos dados\n",
        "    auto leitura_i = std::chrono::steady_clock::now();\n",
        "\n",
        "    // Cria um vetor na CPU (host_vector) com n elementos, todos inicializados com 0\n",
        "    thrust::host_vector<double> host(n, 0);\n",
        "\n",
        "    // Loop para ler n valores da entrada padrão e armazená-los no vetor host\n",
        "    for (int i = 0; i < n; i++) {\n",
        "        cin >> value;              // Lê um valor da entrada padrão\n",
        "        host[i] = value;           // Armazena o valor lido no vetor host\n",
        "    }\n",
        "\n",
        "    // Marca o fim da medição do tempo de leitura dos dados\n",
        "    auto leitura_f = std::chrono::steady_clock::now();\n",
        "\n",
        "    // Calcula o tempo gasto na leitura dos dados\n",
        "    diff = leitura_f - leitura_i;\n",
        "\n",
        "    // Exibe o tempo de leitura em segundos\n",
        "    cout << \"Tempo de LEITURA (em segundos)  \" << diff.count() << endl;\n",
        "\n",
        "    // Marca o início da medição do tempo de cópia dos dados da CPU para a GPU\n",
        "    auto copia_i = std::chrono::steady_clock::now();\n",
        "\n",
        "    // Cria um vetor na GPU (device_vector) copiando os dados do vetor host da CPU\n",
        "    thrust::device_vector<double> dev(host);\n",
        "\n",
        "    // Marca o fim da medição do tempo de cópia dos dados\n",
        "    auto copia_f = std::chrono::steady_clock::now();\n",
        "\n",
        "    // Calcula o tempo gasto na cópia dos dados para a GPU\n",
        "    diff = copia_f - copia_i;\n",
        "\n",
        "    // Exibe o tempo de cópia em segundos\n",
        "    cout << \"Tempo de CÓPIA (em segundos)  \" << diff.count() << endl;\n",
        "\n",
        "    return 0;\n",
        "}"
      ]
    },
    {
      "cell_type": "code",
      "execution_count": 9,
      "metadata": {
        "id": "9aKvBPinHuGj"
      },
      "outputs": [],
      "source": [
        "!nvcc -arch=sm_70 -std=c++14 stocks.cu -o stocks"
      ]
    },
    {
      "cell_type": "code",
      "execution_count": 10,
      "metadata": {
        "colab": {
          "base_uri": "https://localhost:8080/"
        },
        "id": "VB-M7mz0HuJI",
        "outputId": "e2ccd44f-1a52-4466-d438-c007447fde51"
      },
      "outputs": [
        {
          "name": "stdout",
          "output_type": "stream",
          "text": [
            "/bin/bash: line 1: stocks-google.txt: No such file or directory\n"
          ]
        }
      ],
      "source": [
        "!./stocks < stocks-google.txt"
      ]
    },
    {
      "cell_type": "code",
      "execution_count": 14,
      "metadata": {
        "colab": {
          "base_uri": "https://localhost:8080/"
        },
        "id": "20LFecedKT31",
        "outputId": "3f188960-465d-4f40-d65b-c9e40ff611d9"
      },
      "outputs": [
        {
          "name": "stdout",
          "output_type": "stream",
          "text": [
            "Writing reducao.cu\n"
          ]
        }
      ],
      "source": [
        "%%writefile reducao.cu\n",
        "#include <thrust/device_vector.h>\n",
        "#include <thrust/reduce.h>\n",
        "#include <iostream>\n",
        "\n",
        "int main(){\n",
        "    // Criando um vetor na GPU com 5 elementos: {10, 20, 30, 40, 50}\n",
        "    thrust::device_vector<int> vec_gpu(5);\n",
        "    thrust::sequence(vec_gpu.begin(), vec_gpu.end(), 10, 10);\n",
        "\n",
        "    // Calculando a soma dos elementos\n",
        "    int soma = thrust::reduce(vec_gpu.begin(), vec_gpu.end(), 0, thrust::plus<int>());\n",
        "\n",
        "    std::cout << \"Soma dos elementos: \" << soma << std::endl; // Saída: 150\n",
        "\n",
        "    return 0;\n",
        "}"
      ]
    },
    {
      "cell_type": "code",
      "execution_count": 16,
      "metadata": {
        "colab": {
          "base_uri": "https://localhost:8080/"
        },
        "id": "pVyMgex0KT-I",
        "outputId": "d984319c-fd8c-4dd0-e698-8bfb9033ae42"
      },
      "outputs": [
        {
          "name": "stdout",
          "output_type": "stream",
          "text": [
            "Writing exe01.cu\n"
          ]
        }
      ],
      "source": [
        "%%writefile exe01.cu\n",
        "#include <thrust/device_vector.h>\n",
        "#include <thrust/host_vector.h>\n",
        "#include <iostream>\n",
        "#include <chrono>\n",
        "#include <fstream>\n",
        "\n",
        "int main() {\n",
        "    int n = 3112;\n",
        "    thrust::host_vector<double> host(n); // Vetor na CPU para armazenar os dados\n",
        "\n",
        "    // Abrir o arquivo\n",
        "    std::ifstream file(\"stocks-google.txt\");\n",
        "    if (!file.is_open()) {\n",
        "        std::cerr << \"Erro ao abrir o arquivo\" << std::endl;\n",
        "        return -1;\n",
        "    }\n",
        "\n",
        "    // Ler os valores do arquivo e armazenar no host_vector\n",
        "    for (int i = 0; i < n; i++) {\n",
        "        file >> host[i];\n",
        "    }\n",
        "    file.close();\n",
        "\n",
        "    // Medir o tempo de cópia dos dados para a GPU\n",
        "    auto start = std::chrono::steady_clock::now();\n",
        "    thrust::device_vector<double> dev = host; // Copiando os dados para a GPU\n",
        "    auto end = std::chrono::steady_clock::now();\n",
        "\n",
        "    std::chrono::duration<double> diff = end - start;\n",
        "    std::cout << \"Tempo de CÓPIA (em segundos): \" << diff.count() << std::endl;\n",
        "\n",
        "    return 0;\n",
        "}\n"
      ]
    },
    {
      "cell_type": "code",
      "execution_count": 17,
      "metadata": {
        "id": "7iKX4bcXLmPM"
      },
      "outputs": [],
      "source": [
        "!nvcc -arch=sm_75 -std=c++14 exe01.cu -o exe01"
      ]
    },
    {
      "cell_type": "code",
      "execution_count": 18,
      "metadata": {
        "colab": {
          "base_uri": "https://localhost:8080/"
        },
        "id": "ECmKVmceLn-0",
        "outputId": "9bac8296-f27d-472f-f27b-e04aec690574"
      },
      "outputs": [
        {
          "name": "stdout",
          "output_type": "stream",
          "text": [
            "Tempo de CÓPIA (em segundos): 0.20149\n"
          ]
        }
      ],
      "source": [
        "!./exe01"
      ]
    },
    {
      "cell_type": "code",
      "execution_count": 38,
      "metadata": {
        "colab": {
          "base_uri": "https://localhost:8080/"
        },
        "id": "Wa_g2EFRLoBI",
        "outputId": "4f1e7265-3549-48c4-9fa1-7d47773c8f3c"
      },
      "outputs": [
        {
          "name": "stdout",
          "output_type": "stream",
          "text": [
            "Overwriting exe02.cu\n"
          ]
        }
      ],
      "source": [
        "%%writefile exe02.cu\n",
        "#include <thrust/device_vector.h>\n",
        "#include <thrust/host_vector.h>\n",
        "#include <thrust/reduce.h>\n",
        "#include <thrust/functional.h>\n",
        "#include <iostream>\n",
        "#include <fstream>\n",
        "#include <limits> // Para o uso de infinity\n",
        "\n",
        "int main() {\n",
        "    // Suponha que temos um arquivo de dados e vamos ler os dados no host_vector\n",
        "    int n = 3112; \n",
        "    int last_year_days = 365; // Últimos 365 dias\n",
        "\n",
        "    // Vetor na CPU (host_vector) para armazenar os dados\n",
        "    thrust::host_vector<double> host(n);\n",
        "\n",
        "    // Abrir o arquivo e ler os valores\n",
        "    std::ifstream file(\"stocks-google.txt\");\n",
        "    if (!file.is_open()) {\n",
        "        std::cerr << \"Erro ao abrir o arquivo\" << std::endl;\n",
        "        return -1;\n",
        "    }\n",
        "\n",
        "    for (int i = 0; i < n; i++) {\n",
        "        file >> host[i]; // Ler o valor do arquivo e armazenar no host_vector\n",
        "    }\n",
        "    file.close();\n",
        "\n",
        "    // Transferir os dados do host_vector para o device_vector\n",
        "    thrust::device_vector<double> dev = host; // Transferindo para a GPU\n",
        "\n",
        "    // Cálculo do preço médio dos últimos 10 anos (período total)\n",
        "    double soma_total = thrust::reduce(dev.begin(), dev.end(), 0.0, thrust::plus<double>());\n",
        "    double media_total = soma_total / n;\n",
        "    std::cout << \"Preço médio dos últimos 10 anos: \" << media_total << std::endl;\n",
        "\n",
        "    // Cálculo do preço médio dos últimos 365 dias\n",
        "    double soma_365 = thrust::reduce(dev.end() - last_year_days, dev.end(), 0.0, thrust::plus<double>());\n",
        "    double media_365 = soma_365 / last_year_days;\n",
        "    std::cout << \"Preço médio dos últimos 365 dias: \" << media_365 << std::endl;\n",
        "\n",
        "    // Encontrar o maior e o menor preço no período total\n",
        "    double max_total = thrust::reduce(dev.begin(), dev.end(), -std::numeric_limits<double>::infinity(), thrust::maximum<double>());\n",
        "    double min_total = thrust::reduce(dev.begin(), dev.end(), std::numeric_limits<double>::infinity(), thrust::minimum<double>());\n",
        "    std::cout << \"Maior preço dos últimos 10 anos: \" << max_total << std::endl;\n",
        "    std::cout << \"Menor preço dos últimos 10 anos: \" << min_total << std::endl;\n",
        "\n",
        "    // Encontrar o maior e o menor preço nos últimos 365 dias\n",
        "    double max_365 = thrust::reduce(dev.end() - last_year_days, dev.end(), -std::numeric_limits<double>::infinity(), thrust::maximum<double>());\n",
        "    double min_365 = thrust::reduce(dev.end() - last_year_days, dev.end(), std::numeric_limits<double>::infinity(), thrust::minimum<double>());\n",
        "    std::cout << \"Maior preço dos últimos 365 dias: \" << max_365 << std::endl;\n",
        "    std::cout << \"Menor preço dos últimos 365 dias: \" << min_365 << std::endl;\n",
        "\n",
        "    return 0;\n",
        "}\n"
      ]
    },
    {
      "cell_type": "code",
      "execution_count": 39,
      "metadata": {
        "id": "f7kKiniiLoDi"
      },
      "outputs": [],
      "source": [
        "!nvcc -arch=sm_75 -std=c++14 exe02.cu -o exe02"
      ]
    },
    {
      "cell_type": "code",
      "execution_count": 40,
      "metadata": {
        "colab": {
          "base_uri": "https://localhost:8080/"
        },
        "id": "4eV880H5LoF2",
        "outputId": "314881e5-beb8-4101-e358-3d153d8c60a8"
      },
      "outputs": [
        {
          "name": "stdout",
          "output_type": "stream",
          "text": [
            "Preço médio dos últimos 10 anos: 1580.08\n",
            "Preço médio dos últimos 365 dias: 1615.81\n",
            "Maior preço dos últimos 10 anos: 2200\n",
            "Menor preço dos últimos 10 anos: 1015.24\n",
            "Maior preço dos últimos 365 dias: 2200\n",
            "Menor preço dos últimos 365 dias: 1060.5\n"
          ]
        }
      ],
      "source": [
        "!./exe02"
      ]
    },
    {
      "cell_type": "code",
      "execution_count": 41,
      "metadata": {
        "colab": {
          "base_uri": "https://localhost:8080/"
        },
        "id": "mxbgHsVNLoIK",
        "outputId": "c4ff1b06-8bdc-4a03-90e1-d9f5d7b69cb5"
      },
      "outputs": [
        {
          "name": "stdout",
          "output_type": "stream",
          "text": [
            "Overwriting exe03.cu\n"
          ]
        }
      ],
      "source": [
        "%%writefile exe03.cu\n",
        "#include <thrust/device_vector.h>\n",
        "#include <thrust/host_vector.h>\n",
        "#include <thrust/transform.h>\n",
        "#include <thrust/reduce.h>\n",
        "#include <iostream>\n",
        "#include <fstream>\n",
        "\n",
        "int main() {\n",
        "    int n = 3520;\n",
        "\n",
        "    // Vetores na CPU (host_vector) para armazenar os preços da Apple e da Microsoft\n",
        "    thrust::host_vector<double> host_AAPL(n);\n",
        "    thrust::host_vector<double> host_MSFT(n);\n",
        "\n",
        "    // Abrir o arquivo e ler os valores\n",
        "    std::ifstream file(\"stocks2.txt\");\n",
        "    if (!file.is_open()) {\n",
        "        std::cerr << \"Erro ao abrir o arquivo\" << std::endl;\n",
        "        return -1;\n",
        "    }\n",
        "\n",
        "    // Ler os valores do arquivo, onde cada linha contém dois preços separados por vírgula\n",
        "    for (int i = 0; i < n; i++) {\n",
        "        char comma;\n",
        "        file >> host_AAPL[i] >> comma >> host_MSFT[i]; // Lê o valor da Apple, depois da Microsoft\n",
        "    }\n",
        "    file.close();\n",
        "\n",
        "    // Transferir os dados dos host_vectors para os device_vectors\n",
        "    thrust::device_vector<double> dev_AAPL = host_AAPL;\n",
        "    thrust::device_vector<double> dev_MSFT = host_MSFT;\n",
        "\n",
        "    // Vetor para armazenar as diferenças\n",
        "    thrust::device_vector<double> differences(n);\n",
        "\n",
        "    // Calcular a diferença ponto a ponto entre os preços da Apple e Microsoft\n",
        "    thrust::transform(dev_AAPL.begin(), dev_AAPL.end(), dev_MSFT.begin(), differences.begin(), thrust::minus<double>());\n",
        "\n",
        "    // Calcular a soma das diferenças\n",
        "    double soma_dif = thrust::reduce(differences.begin(), differences.end(), 0.0, thrust::plus<double>());\n",
        "\n",
        "    // Calcular a média das diferenças\n",
        "    double media_dif = soma_dif / n;\n",
        "\n",
        "    std::cout << \"Média das diferenças entre os preços das ações da Apple e Microsoft: \" << media_dif << std::endl;\n",
        "\n",
        "    return 0;\n",
        "}\n"
      ]
    },
    {
      "cell_type": "code",
      "execution_count": 42,
      "metadata": {
        "id": "13kJb7D6LoKk"
      },
      "outputs": [],
      "source": [
        "!nvcc -arch=sm_75 -std=c++14 exe03.cu -o exe03"
      ]
    },
    {
      "cell_type": "code",
      "execution_count": 43,
      "metadata": {
        "colab": {
          "base_uri": "https://localhost:8080/"
        },
        "id": "tww22bTXLoM3",
        "outputId": "4c4a61e4-15a8-4015-e5fd-451b47ef0ca0"
      },
      "outputs": [
        {
          "name": "stdout",
          "output_type": "stream",
          "text": [
            "Média das diferenças entre os preços das ações da Apple e Microsoft: -265.232\n"
          ]
        }
      ],
      "source": [
        "!./exe03"
      ]
    },
    {
      "cell_type": "code",
      "execution_count": null,
      "metadata": {
        "id": "CllWwAJZLoPN"
      },
      "outputs": [],
      "source": []
    },
    {
      "cell_type": "code",
      "execution_count": null,
      "metadata": {
        "id": "Pm3b7KmPLoRR"
      },
      "outputs": [],
      "source": []
    },
    {
      "cell_type": "code",
      "execution_count": null,
      "metadata": {
        "id": "BPb94LHYLmSB"
      },
      "outputs": [],
      "source": []
    }
  ],
  "metadata": {
    "accelerator": "GPU",
    "colab": {
      "gpuType": "T4",
      "provenance": []
    },
    "kernelspec": {
      "display_name": "Python 3",
      "name": "python3"
    },
    "language_info": {
      "name": "python"
    }
  },
  "nbformat": 4,
  "nbformat_minor": 0
}
